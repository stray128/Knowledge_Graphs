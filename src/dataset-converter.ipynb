{
 "cells": [
  {
   "cell_type": "code",
   "execution_count": 62,
   "metadata": {
    "collapsed": true
   },
   "outputs": [],
   "source": [
    "import itertools\n",
    "\n",
    "import numpy as np\n",
    "from scipy.io.matlab import loadmat\n",
    "\n",
    "def load_dataset(dataset):\n",
    "    if dataset == 'umls':\n",
    "        mat = loadmat('../../almc/data/%s/uml.mat' % (dataset))\n",
    "        T = np.array(mat['Rs'], np.float32)\n",
    "        rnames = [name[0][0] for name in mat['relnames']]\n",
    "        enames = [name[0][0] for name in mat['names']]\n",
    "        gnames = [name[0] for name in mat['gnames'][0]]\n",
    "    elif dataset == 'nation':\n",
    "        mat = loadmat('../../almc/data/%s/dnations.mat' % (dataset))\n",
    "        T = np.array(mat['R'], np.float32)\n",
    "        rnames = [name[0] for name in mat['relnnames'][0]]\n",
    "        enames = [name[0] for name in mat['countrynames'][0]]        \n",
    "        gnames = enames\n",
    "        \n",
    "    T = np.swapaxes(T, 1, 2)\n",
    "    T = np.swapaxes(T, 0, 1)  # [relation, entity, entity]\n",
    "    T[np.isnan(T)] = 0\n",
    "    \n",
    "    return T, rnames, enames, gnames"
   ]
  },
  {
   "cell_type": "code",
   "execution_count": 63,
   "metadata": {
    "collapsed": false
   },
   "outputs": [],
   "source": [
    "dataset = 'umls'\n",
    "T, relnames, entity_names, group_names = load_dataset(dataset)"
   ]
  },
  {
   "cell_type": "code",
   "execution_count": 64,
   "metadata": {
    "collapsed": false
   },
   "outputs": [],
   "source": [
    "with open('../%s/entities.txt' % dataset, 'w') as ef:\n",
    "    for ei, entity in enumerate(entity_names):\n",
    "        ef.write('%d\\t%s\\n' % (ei, entity.strip()))\n",
    "with open('../%s/relations.txt' % dataset, 'w') as rf:\n",
    "    for ri, relation in enumerate(relnames):\n",
    "        rf.write('%d\\t%s\\n' % (ri, relation.strip()))\n",
    "\n",
    "if entity_names is not group_names:\n",
    "    with open('../%s/entity_category.txt' % dataset, 'w') as gf:\n",
    "        for gi, group in enumerate(group_names):\n",
    "            gf.write('%d\\t%s\\n' % (gi, group))\n",
    "        \n",
    "n_relation, n_entity, _ = T.shape\n",
    "\n",
    "with open('../%s/triples.txt' % dataset, 'w') as tf:\n",
    "    for ri, ei, ej in itertools.product(range(n_relation), range(n_entity), range(n_entity)):\n",
    "        if T[ri, ei, ej] == 1:\n",
    "            tf.write('%d\\t%d\\t%d\\n' % (ri, ei, ej))"
   ]
  },
  {
   "cell_type": "code",
   "execution_count": null,
   "metadata": {
    "collapsed": true
   },
   "outputs": [],
   "source": []
  }
 ],
 "metadata": {
  "kernelspec": {
   "display_name": "Python 3",
   "language": "python",
   "name": "python3"
  },
  "language_info": {
   "codemirror_mode": {
    "name": "ipython",
    "version": 3
   },
   "file_extension": ".py",
   "mimetype": "text/x-python",
   "name": "python",
   "nbconvert_exporter": "python",
   "pygments_lexer": "ipython3",
   "version": "3.4.3"
  }
 },
 "nbformat": 4,
 "nbformat_minor": 0
}
